{
  "cells": [
    {
      "cell_type": "markdown",
      "metadata": {
        "id": "view-in-github",
        "colab_type": "text"
      },
      "source": [
        "<a href=\"https://colab.research.google.com/github/AEmanuelli/ML_Final_project/blob/main/Projet_ML23.ipynb\" target=\"_parent\"><img src=\"https://colab.research.google.com/assets/colab-badge.svg\" alt=\"Open In Colab\"/></a>"
      ]
    },
    {
      "cell_type": "markdown",
      "source": [
        "# Git updates"
      ],
      "metadata": {
        "id": "WDsxP5vNFNAV"
      }
    },
    {
      "cell_type": "code",
      "source": [
        "!git config --global user.name \"AEmanuelli\"\n",
        "!git config --global user.email \"accent.cartilage0r@icloud.com\"\n",
        "!git add .\n",
        "!git commit -m \"Linear removal of function\""
      ],
      "metadata": {
        "colab": {
          "base_uri": "https://localhost:8080/"
        },
        "id": "r3BnelwoEpJc",
        "outputId": "a7d127ed-4012-412b-f4b2-2387595647da"
      },
      "execution_count": null,
      "outputs": [
        {
          "output_type": "stream",
          "name": "stdout",
          "text": [
            "fatal: not a git repository (or any of the parent directories): .git\n",
            "fatal: not a git repository (or any of the parent directories): .git\n"
          ]
        }
      ]
    },
    {
      "cell_type": "markdown",
      "source": [
        "# Environment Setup"
      ],
      "metadata": {
        "id": "L1dljP11FJiW"
      }
    },
    {
      "cell_type": "code",
      "execution_count": 1,
      "metadata": {
        "id": "df5y8rK-gwfF",
        "colab": {
          "base_uri": "https://localhost:8080/"
        },
        "outputId": "f2a40d26-5aac-405e-d913-a5dbb0fbe7c1"
      },
      "outputs": [
        {
          "output_type": "stream",
          "name": "stdout",
          "text": [
            "rm: cannot remove '/content/ML_Final_project/': No such file or directory\n",
            "/content\n",
            "Cloning into 'ML_Final_project'...\n",
            "remote: Enumerating objects: 148, done.\u001b[K\n",
            "remote: Counting objects: 100% (148/148), done.\u001b[K\n",
            "remote: Compressing objects: 100% (111/111), done.\u001b[K\n",
            "remote: Total 148 (delta 57), reused 0 (delta 0), pack-reused 0\u001b[K\n",
            "Receiving objects: 100% (148/148), 35.83 KiB | 797.00 KiB/s, done.\n",
            "Resolving deltas: 100% (57/57), done.\n",
            "/content/ML_Final_project\n",
            "Looking in indexes: https://pypi.org/simple, https://us-python.pkg.dev/colab-wheels/public/simple/\n",
            "Collecting icecream\n",
            "  Downloading icecream-2.1.3-py2.py3-none-any.whl (8.4 kB)\n",
            "Collecting colorama>=0.3.9 (from icecream)\n",
            "  Downloading colorama-0.4.6-py2.py3-none-any.whl (25 kB)\n",
            "Requirement already satisfied: pygments>=2.2.0 in /usr/local/lib/python3.10/dist-packages (from icecream) (2.14.0)\n",
            "Collecting executing>=0.3.1 (from icecream)\n",
            "  Downloading executing-1.2.0-py2.py3-none-any.whl (24 kB)\n",
            "Collecting asttokens>=2.0.1 (from icecream)\n",
            "  Downloading asttokens-2.2.1-py2.py3-none-any.whl (26 kB)\n",
            "Requirement already satisfied: six in /usr/local/lib/python3.10/dist-packages (from asttokens>=2.0.1->icecream) (1.16.0)\n",
            "Installing collected packages: executing, colorama, asttokens, icecream\n",
            "Successfully installed asttokens-2.2.1 colorama-0.4.6 executing-1.2.0 icecream-2.1.3\n"
          ]
        }
      ],
      "source": [
        "%rm -r /content/ML_Final_project/\n",
        "%cd /content\n",
        "!git clone https://github.com/AEmanuelli/ML_Final_project.git\n",
        "%cd /content/ML_Final_project\n",
        "!pip install icecream"
      ]
    },
    {
      "cell_type": "code",
      "execution_count": 2,
      "metadata": {
        "id": "7vWEcYfVgwfL"
      },
      "outputs": [],
      "source": [
        "import numpy as np \n",
        "import matplotlib.pyplot as plt\n",
        "from sklearn.datasets import make_classification\n",
        "import os\n",
        "from sklearn.datasets import load_digits\n",
        "from sklearn.preprocessing import OneHotEncoder\n",
        "from sklearn.metrics import ConfusionMatrixDisplay\n",
        "import pandas as pd\n",
        "import seaborn as sns\n",
        "from typing import Any\n",
        "import numpy as np\n",
        "from tqdm import tqdm\n",
        "from copy import deepcopy\n",
        "from IPython.display import display\n",
        "from sklearn.model_selection import train_test_split\n",
        "from pandas import DataFrame\n",
        "np.random.seed(42)\n",
        "from Code.module import Module\n",
        "from Code.Loss import *\n",
        "from Code.activation import *\n",
        "from Code.Linear import *\n",
        "from Code.Mltools import *\n",
        "from Code.encapsulation import *\n",
        "from Code.LinearModel import *\n",
        "from Code.XOR import *"
      ]
    },
    {
      "cell_type": "markdown",
      "source": [
        "#Mon premier est linéaire "
      ],
      "metadata": {
        "id": "8ABkFivOB7MF"
      }
    },
    {
      "cell_type": "code",
      "source": [
        "# X_test, y_test = make_classification(n_features=2, n_redundant=0, n_informative=2,\n",
        "#                                      random_state=2, n_clusters_per_class=1)\n",
        "\n",
        "# # Entraînement du modèle linéaire sur l'ensemble de données d'entraînement\n",
        "# model = LinearModel()\n",
        "# model.train(X_train, y_train, epochs=500, learning_rate=1e-4)\n",
        "\n",
        "# # Plot loss history\n",
        "# model.plot_loss_history()\n",
        "\n",
        "# # Plot accuracy history\n",
        "# model.plot_accuracy_history()\n",
        "\n",
        "# # Prédictions sur l'ensemble de données d'entraînement\n",
        "# y_train_pred = model.predict(X_train)\n",
        "\n",
        "# # Plot des données d'entraînement et de la frontière de décision\n",
        "# fig, ax = plt.subplots()\n",
        "# ax.scatter(X_train[:, 0], X_train[:, 1], c=y_train)\n",
        "# x_min, x_max = ax.get_xlim()\n",
        "# y_min, y_max = ax.get_ylim()\n",
        "# xx, yy = np.meshgrid(np.linspace(x_min, x_max, 100),\n",
        "#                      np.linspace(y_min, y_max, 100))\n",
        "# Z = model.predict(np.c_[xx.ravel(), yy.ravel()])\n",
        "# Z = np.round(Z).reshape(xx.shape)\n",
        "# ax.contour(xx, yy, Z, levels=[0.5], colors='r')\n",
        "# plt.title('Entraînement - Données d\\'entraînement')\n",
        "# plt.show()\n",
        "\n",
        "# # Prédictions sur l'ensemble de données de test\n",
        "# y_test_pred = model.predict(X_test)\n",
        "\n",
        "# # Plot des données de test et de la frontière de décision\n",
        "# fig, ax = plt.subplots()\n",
        "# ax.scatter(X_test[:, 0], X_test[:, 1], c=y_test)\n",
        "# x_min, x_max = ax.get_xlim()\n",
        "# y_min, y_max = ax.get_ylim()\n",
        "# xx, yy = np.meshgrid(np.linspace(x_min, x_max, 100),\n",
        "#                      np.linspace(y_min, y_max, 100))\n",
        "# Z = model.predict(np.c_[xx.ravel(), yy.ravel()])\n",
        "# Z = np.round(Z).reshape(xx.shape)\n",
        "# ax.contour(xx, yy, Z, levels=[0.5], colors='r')\n",
        "# plt.title('Test - Données de test')\n",
        "# plt.show()"
      ],
      "metadata": {
        "colab": {
          "base_uri": "https://localhost:8080/",
          "height": 243
        },
        "id": "CRdoxPsBZoct",
        "outputId": "cc1deeb5-431c-4654-9ff0-e218e425f2a0"
      },
      "execution_count": null,
      "outputs": [
        {
          "output_type": "error",
          "ename": "NameError",
          "evalue": "ignored",
          "traceback": [
            "\u001b[0;31m---------------------------------------------------------------------------\u001b[0m",
            "\u001b[0;31mNameError\u001b[0m                                 Traceback (most recent call last)",
            "\u001b[0;32m<ipython-input-4-7dafb60acab8>\u001b[0m in \u001b[0;36m<cell line: 6>\u001b[0;34m()\u001b[0m\n\u001b[1;32m      4\u001b[0m \u001b[0;31m# Entraînement du modèle linéaire sur l'ensemble de données d'entraînement\u001b[0m\u001b[0;34m\u001b[0m\u001b[0;34m\u001b[0m\u001b[0m\n\u001b[1;32m      5\u001b[0m \u001b[0mmodel\u001b[0m \u001b[0;34m=\u001b[0m \u001b[0mLinearModel\u001b[0m\u001b[0;34m(\u001b[0m\u001b[0;34m)\u001b[0m\u001b[0;34m\u001b[0m\u001b[0;34m\u001b[0m\u001b[0m\n\u001b[0;32m----> 6\u001b[0;31m \u001b[0mmodel\u001b[0m\u001b[0;34m.\u001b[0m\u001b[0mtrain\u001b[0m\u001b[0;34m(\u001b[0m\u001b[0mX_train\u001b[0m\u001b[0;34m,\u001b[0m \u001b[0my_train\u001b[0m\u001b[0;34m,\u001b[0m \u001b[0mepochs\u001b[0m\u001b[0;34m=\u001b[0m\u001b[0;36m500\u001b[0m\u001b[0;34m,\u001b[0m \u001b[0mlearning_rate\u001b[0m\u001b[0;34m=\u001b[0m\u001b[0;36m1e-4\u001b[0m\u001b[0;34m)\u001b[0m\u001b[0;34m\u001b[0m\u001b[0;34m\u001b[0m\u001b[0m\n\u001b[0m\u001b[1;32m      7\u001b[0m \u001b[0;34m\u001b[0m\u001b[0m\n\u001b[1;32m      8\u001b[0m \u001b[0;31m# Plot loss history\u001b[0m\u001b[0;34m\u001b[0m\u001b[0;34m\u001b[0m\u001b[0m\n",
            "\u001b[0;31mNameError\u001b[0m: name 'X_train' is not defined"
          ]
        }
      ]
    },
    {
      "cell_type": "code",
      "source": [],
      "metadata": {
        "id": "tSS5RP04Wdjp"
      },
      "execution_count": null,
      "outputs": []
    },
    {
      "cell_type": "code",
      "source": [
        "from sklearn.datasets import make_classification\n",
        "from sklearn.model_selection import train_test_split\n",
        "import numpy as np\n",
        "\n",
        "# Define the random seeds and number of iterations\n",
        "random_seeds = [42, 123, 456]\n",
        "num_iterations = [100, 250, 500, 750, 1000]\n",
        "\n",
        "# Store the mean accuracy for each number of iterations\n",
        "mean_accuracy_results = {}\n",
        "\n",
        "# Iterate over the number of iterations\n",
        "for iterations in num_iterations:\n",
        "    # Store the accuracy for each combination of seed and learning rate\n",
        "    accuracy_results = []\n",
        "\n",
        "    # Iterate over the random seeds\n",
        "    for seed in random_seeds:\n",
        "        # Generate random data with the given seed\n",
        "        X, y = make_classification(n_features=2, n_redundant=0, n_informative=2,\n",
        "                                   random_state=seed, n_clusters_per_class=1)\n",
        "\n",
        "        # Split the data into train and test sets\n",
        "        X_train, X_test, y_train, y_test = train_test_split(X, y, test_size=0.2, random_state=seed)\n",
        "\n",
        "        # Define a list of learning rates\n",
        "        learning_rates = [.009,1e-3, 1e-4, 1e-5, 1e-6]\n",
        "\n",
        "        # Store the accuracy for each learning rate\n",
        "        lr_accuracy_results = []\n",
        "\n",
        "        # Iterate over the learning rates\n",
        "        for lr in learning_rates:\n",
        "            # Instantiate and train the model\n",
        "            model = LinearModel()\n",
        "            model.train(X_train, y_train, epochs=iterations, learning_rate=lr)\n",
        "\n",
        "            # Make predictions on the train and test sets\n",
        "            y_train_pred = model.predict(X_train)\n",
        "            y_test_pred = model.predict(X_test)\n",
        "\n",
        "            # Compute accuracy for train and test sets\n",
        "            train_accuracy = accuracy_score(y_train, y_train_pred)\n",
        "            test_accuracy = accuracy_score(y_test, y_test_pred)\n",
        "\n",
        "            # Store the results\n",
        "            lr_accuracy_results.append((lr, train_accuracy, test_accuracy))\n",
        "\n",
        "        # Store the accuracy results for this seed\n",
        "        accuracy_results.append(lr_accuracy_results)\n",
        "\n",
        "    # Calculate the mean accuracy for this number of iterations\n",
        "    mean_accuracy_results[iterations] = np.mean([test_acc for _, _, test_acc in np.concatenate(accuracy_results)])\n",
        "\n",
        "    # Print the accuracy results for this number of iterations\n",
        "    print(f\"Number of Iterations: {iterations}\")\n",
        "    for seed, lr_accuracy_results in zip(random_seeds, accuracy_results):\n",
        "        print(f\"Random Seed: {seed}\")\n",
        "        for lr, train_acc, test_acc in lr_accuracy_results:\n",
        "            print(f\"Learning Rate: {lr}\")\n",
        "            print(f\"Train Accuracy: {train_acc:.2f}\")\n",
        "            print(f\"Test Accuracy: {test_acc:.2f}\")\n",
        "            print()\n",
        "\n",
        "    print(f\"Mean Test Accuracy: {mean_accuracy_results[iterations]:.2f}\")\n",
        "    print()\n",
        "\n",
        "# Print the mean accuracy results for each number of iterations\n",
        "print(\"Mean Accuracy Results:\")\n",
        "for iterations, mean_accuracy in mean_accuracy_results.items():\n",
        "    print(f\"Number of Iterations: {iterations}, Mean Test Accuracy: {mean_accuracy:.2f}\")\n"
      ],
      "metadata": {
        "id": "WxLdD38fiIcp"
      },
      "execution_count": null,
      "outputs": []
    },
    {
      "cell_type": "code",
      "source": [
        "import numpy as np\n",
        "import matplotlib.pyplot as plt\n",
        "from sklearn.datasets import make_classification\n",
        "from sklearn.metrics import accuracy_score\n",
        "\n",
        "# Define the random seeds and number of iterations\n",
        "random_seeds = [i for i in range(1)]\n",
        "\n",
        "num_iterations = [10, 50, 100, 250, 500, 750, 1000]\n",
        "\n",
        "# Store the mean accuracy for each number of iterations\n",
        "mean_accuracy_results = {}\n",
        "\n",
        "# Iterate over the number of iterations\n",
        "for iterations in num_iterations:\n",
        "    # Store the accuracy for each combination of seed and learning rate\n",
        "    accuracy_results = []\n",
        "\n",
        "    # Iterate over the random seeds\n",
        "    for seed in random_seeds:\n",
        "        # Generate random data with the given seed\n",
        "        X, y = make_classification(n_features=2, n_redundant=0, n_informative=2,\n",
        "                                   random_state=seed, n_clusters_per_class=1)\n",
        "\n",
        "        # Split the data into train and test sets\n",
        "        X_train, X_test, y_train, y_test = train_test_split(X, y, test_size=0.2, random_state=seed)\n",
        "\n",
        "        # Define a list of learning rates\n",
        "        learning_rates = [1e-3, 1e-4, 1e-5, 1e-6]\n",
        "\n",
        "        # Store the accuracy for each learning rate\n",
        "        lr_accuracy_results = []\n",
        "\n",
        "        # Iterate over the learning rates\n",
        "        for lr in learning_rates:\n",
        "            # Instantiate and train the model\n",
        "            model = LinearModel()\n",
        "            model.train(X_train, y_train, epochs=iterations, learning_rate=lr)\n",
        "\n",
        "            # Make predictions on the test set\n",
        "            y_test_pred = model.predict(X_test)\n",
        "\n",
        "            # Compute accuracy for the test set\n",
        "            test_accuracy = accuracy_score(y_test, y_test_pred)\n",
        "\n",
        "            # Store the results\n",
        "            lr_accuracy_results.append(test_accuracy)\n",
        "\n",
        "        # Store the accuracy results for this seed\n",
        "        accuracy_results.append(lr_accuracy_results)\n",
        "\n",
        "    # Calculate the mean accuracy for this number of iterations\n",
        "    mean_accuracy_results[iterations] = np.mean(accuracy_results, axis=0)\n",
        "\n",
        "# Create a heatmap of the mean test accuracy\n",
        "mean_accuracy_matrix = np.array([mean_accuracy_results[iterations] for iterations in num_iterations])\n",
        "plt.imshow(mean_accuracy_matrix, cmap='hot', interpolation='nearest')\n",
        "plt.colorbar()\n",
        "plt.xticks(np.arange(len(learning_rates)), [f\"{lr:.0e}\" for lr in learning_rates], rotation=45)\n",
        "plt.yticks(np.arange(len(num_iterations)), num_iterations)\n",
        "plt.xlabel('Learning Rate')\n",
        "plt.ylabel('Number of Iterations')\n",
        "plt.title('Test Accuracy')\n",
        "plt.show()"
      ],
      "metadata": {
        "id": "gLZjIN5rBuwA"
      },
      "execution_count": null,
      "outputs": []
    },
    {
      "cell_type": "markdown",
      "source": [
        "#Mon second est non linéaire"
      ],
      "metadata": {
        "id": "RlhVwqk0B0_u"
      }
    },
    {
      "cell_type": "code",
      "source": [
        "batchsize = 1000\n",
        "\n",
        "X_train, y_train = gen_arti(centerx=1, centery=1, sigma=0.1, nbex=3000, data_type=1, epsilon=0.1)\n",
        "X_test, y_test = gen_arti(centerx=1, centery=1, sigma=0.1, nbex=batchsize, data_type=1, epsilon=0.1)\n",
        "\n",
        "y_train = np.where(y_train == -1, 0, 1).reshape((-1, 1))\n",
        "y_test = np.where(y_test == -1, 0, 1).reshape((-1, 1))\n",
        "\n",
        "n = X_train.shape[1]\n",
        "hidden = 1\n",
        "d = 1\n",
        "iteration = 1000\n",
        "gradient_step = 1e-3\n",
        "\n",
        "neural_net = NN_XOR(n, hidden, d)\n",
        "neural_net.train(X_train, y_train, iteration, gradient_step)\n",
        "\n",
        "predictions = neural_net.predict(X_test)\n",
        "accuracy = np.mean(y_test == predictions)\n",
        "print(\"accuracy : \", accuracy)\n",
        "\n",
        "plot_frontiere(X_test, neural_net.predict, step=100)\n",
        "plot_data(X_test, y_test.reshape(-1))"
      ],
      "metadata": {
        "id": "dCKtbnKXEK7u",
        "colab": {
          "base_uri": "https://localhost:8080/",
          "height": 448
        },
        "outputId": "3741a840-8435-4c38-a3bb-1edf93a1f232"
      },
      "execution_count": 10,
      "outputs": [
        {
          "output_type": "stream",
          "name": "stdout",
          "text": [
            "accuracy :  0.735\n"
          ]
        },
        {
          "output_type": "display_data",
          "data": {
            "text/plain": [
              "<Figure size 640x480 with 1 Axes>"
            ],
            "image/png": "[encoded data removed]"
          },
          "metadata": {}
        }
      ]
    },
    {
      "cell_type": "code",
      "source": [],
      "metadata": {
        "id": "s9TdayNeF1nZ"
      },
      "execution_count": null,
      "outputs": []
    },
    {
      "cell_type": "code",
      "source": [],
      "metadata": {
        "id": "Px5MHXwPF1u5"
      },
      "execution_count": null,
      "outputs": []
    },
    {
      "cell_type": "code",
      "execution_count": 11,
      "metadata": {
        "id": "hGYgU9PFgwfM",
        "colab": {
          "base_uri": "https://localhost:8080/",
          "height": 448
        },
        "outputId": "5c7ad14c-868c-4623-8370-d2d5ba7f5e9d"
      },
      "outputs": [
        {
          "output_type": "stream",
          "name": "stdout",
          "text": [
            "accuracy :  0.998\n"
          ]
        },
        {
          "output_type": "display_data",
          "data": {
            "text/plain": [
              "<Figure size 640x480 with 1 Axes>"
            ],
            "image/png": "[encoded data removed]"
          },
          "metadata": {}
        }
      ],
      "source": [
        "batchsize = 1000\n",
        "\n",
        "X_train, y_train = gen_arti(centerx=1, centery=1, sigma=0.1, nbex=3000, data_type=1, epsilon=0.1)\n",
        "X_test, y_test = gen_arti(centerx=1, centery=1, sigma=0.1, nbex=batchsize, data_type=1, epsilon=0.1)\n",
        "\n",
        "\n",
        "y_train = np.where(y_train == -1, 0, 1).reshape((-1, 1))\n",
        "y_test = np.where(y_test == -1, 0, 1).reshape((-1, 1))\n",
        "\n",
        "\n",
        "n = X_train.shape[1]\n",
        "hidden = 30\n",
        "d = 1\n",
        "iteration = 750\n",
        "gradient_step = 1e-3\n",
        "\n",
        "loss_mse = MSELoss()\n",
        "lin_layer = Linear(n, hidden)\n",
        "lin_layer2 = Linear(hidden, d)\n",
        "act_sig = Sigmoid()\n",
        "act_tan = TanH()\n",
        "\n",
        "for _ in range(iteration):\n",
        "\n",
        "    # forward\n",
        "    hidden_lin = lin_layer.forward(X_train)\n",
        "    hidden_tan = act_tan.forward(hidden_lin)\n",
        "    hidden_lin2 = lin_layer2.forward(hidden_tan)\n",
        "    hidden_sig = act_sig.forward(hidden_lin2)\n",
        "    loss = loss_mse.forward(y_train, hidden_sig)\n",
        "\n",
        "    # backward\n",
        "    loss_back = loss_mse.backward(y_train, hidden_sig)\n",
        "    delta_sig = act_sig.backward_delta(hidden_lin2, loss_back)\n",
        "    delta_lin2 = lin_layer2.backward_delta(hidden_tan, delta_sig)\n",
        "    delta_tan = act_tan.backward_delta(hidden_lin, delta_lin2)\n",
        "    delta_lin = lin_layer.backward_delta(X_train, delta_tan)\n",
        "\n",
        "    lin_layer2.backward_update_gradient(hidden_tan, delta_sig)\n",
        "    lin_layer.backward_update_gradient(X_train, delta_tan)\n",
        "\n",
        "    lin_layer2.update_parameters(gradient_step)\n",
        "    lin_layer.update_parameters(gradient_step)\n",
        "\n",
        "    lin_layer2.zero_grad()\n",
        "    lin_layer.zero_grad()\n",
        "\n",
        "\n",
        "def predict(x):\n",
        "    hidden_l = lin_layer.forward(x)\n",
        "    hidden_l = act_tan.forward(hidden_l)\n",
        "    hidden_l = lin_layer2.forward(hidden_l)\n",
        "    hidden_l = act_sig.forward(hidden_l)\n",
        "    return np.where(hidden_l >= 0.5, 1, 0)\n",
        "\n",
        "\n",
        "print(\"accuracy : \", np.mean(y_test == predict(X_test)))\n",
        "\n",
        "plot_frontiere(X_test, predict, step=100)\n",
        "plot_data(X_test, y_test.reshape(-1))"
      ]
    },
    {
      "cell_type": "code",
      "source": [
        "import numpy as np\n",
        "import matplotlib.pyplot as plt\n",
        "from sklearn.datasets import make_classification\n",
        "from sklearn.metrics import accuracy_score\n",
        "from sklearn.model_selection import train_test_split\n",
        "\n",
        "# Define the random seeds and number of iterations\n",
        "random_seeds = [i for i in range(3)]\n",
        "\n",
        "num_iterations = [10, 50, 100, 250, 500, 750, 1000]\n",
        "\n",
        "# Store the mean accuracy for each number of iterations\n",
        "mean_accuracy_results = {}\n",
        "\n",
        "# Iterate over the number of iterations\n",
        "for iterations in num_iterations:\n",
        "    # Store the accuracy for each combination of seed and learning rate\n",
        "    accuracy_results = []\n",
        "\n",
        "    # Iterate over the random seeds\n",
        "    for seed in random_seeds:\n",
        "        np.random.seed(seed)\n",
        "        X, y = gen_arti(centerx=1, centery=1, sigma=0.1, nbex=1000, data_type=1, epsilon=0.1)\n",
        "        y = np.where(y == -1, 0, 1).reshape((-1, 1))\n",
        "\n",
        "\n",
        "        # Split the data into train and test sets\n",
        "        X_train, X_test, y_train, y_test = train_test_split(X, y, test_size=0.2, random_state=seed)\n",
        "\n",
        "        # Define a list of learning rates\n",
        "        learning_rates = [1e-3, 1e-4, 1e-5, 1e-6]\n",
        "\n",
        "        # Store the accuracy for each learning rate\n",
        "        lr_accuracy_results = []\n",
        "\n",
        "        # Iterate over the learning rates\n",
        "        for lr in learning_rates:\n",
        "            # Instantiate and train the model\n",
        "            neural_net = NN_XOR(X_train.shape[1], hidden_size=30, output_size=1)\n",
        "            neural_net.train(X_train, y_train.reshape((-1, 1)), iteration=iterations, gradient_step=lr)\n",
        "\n",
        "            # Make predictions on the test set\n",
        "            y_test_pred = neural_net.predict(X_test)\n",
        "\n",
        "            # Compute accuracy for the test set\n",
        "            test_accuracy = accuracy_score(y_test, y_test_pred)\n",
        "\n",
        "            # Store the results\n",
        "            lr_accuracy_results.append(test_accuracy)\n",
        "\n",
        "        # Store the accuracy results for this seed\n",
        "        accuracy_results.append(lr_accuracy_results)\n",
        "\n",
        "    # Calculate the mean accuracy for this number of iterations\n",
        "    mean_accuracy_results[iterations] = np.mean(accuracy_results, axis=0)\n",
        "\n",
        "# Create a heatmap of the mean test accuracy\n",
        "mean_accuracy_matrix = np.array([mean_accuracy_results[iterations] for iterations in num_iterations])\n",
        "plt.imshow(mean_accuracy_matrix, cmap='hot', interpolation='nearest')\n",
        "plt.colorbar()\n",
        "plt.xticks(np.arange(len(learning_rates)), [f\"{lr:.0e}\" for lr in learning_rates], rotation=45)\n",
        "plt.yticks(np.arange(len(num_iterations)), num_iterations)\n",
        "plt.xlabel('Learning Rate')\n",
        "plt.ylabel('Number of Iterations')\n",
        "plt.title('Mean Test Accuracy')\n",
        "plt.show()"
      ],
      "metadata": {
        "id": "5AMgy_ntJV3G",
        "colab": {
          "base_uri": "https://localhost:8080/",
          "height": 496
        },
        "outputId": "1ea3e8e5-4aff-423c-9cd0-706d9edb4378"
      },
      "execution_count": 22,
      "outputs": [
        {
          "output_type": "display_data",
          "data": {
            "text/plain": [
              "<Figure size 640x480 with 2 Axes>"
            ],
            "image/png": "[encoded data removed]"
          },
          "metadata": {}
        }
      ]
    },
    {
      "cell_type": "code",
      "source": [
        "hiddens = [i for i in range(10, 101, 10)]\n",
        "iterations = 250  \n",
        "lr = 1e-3 \n",
        "\n",
        "mean_accuracies = []\n",
        "std_accuracies = []\n",
        "\n",
        "for hidden in hiddens:\n",
        "    accuracies = []\n",
        "    for seed in range(50):\n",
        "        np.random.seed(seed)  # Set the random seed for reproducibility\n",
        "        X, y = gen_arti(centerx=1, centery=1, sigma=0.1, nbex=1000, data_type=1, epsilon=0.1)\n",
        "        y = np.where(y == -1, 0, 1).reshape((-1, 1))\n",
        "        # Split the data into train and test sets\n",
        "        X_train, X_test, y_train, y_test = train_test_split(X, y, test_size=0.2, random_state=seed)\n",
        "\n",
        "        # Instantiate and train the model\n",
        "        neural_net = NN_XOR(2, hidden_size=hidden, output_size=1)\n",
        "        neural_net.train(X_train, y_train.reshape((-1, 1)), iteration=iterations, gradient_step=lr)\n",
        "        \n",
        "        # Calculate accuracy on the test set\n",
        "        y_pred = neural_net.predict(X_test)\n",
        "        accuracy = accuracy_score(y_test, y_pred)\n",
        "        accuracies.append(accuracy)\n",
        "    \n",
        "    # Calculate mean and standard deviation\n",
        "    mean_accuracy = np.mean(accuracies)\n",
        "    std_accuracy = np.std(accuracies)\n",
        "   \n",
        "    # Append to lists\n",
        "    mean_accuracies.append(mean_accuracy)\n",
        "    std_accuracies.append(std_accuracy)\n",
        "\n",
        "\n",
        "\n",
        "print(mean_accuracies)\n",
        "\n",
        "std_errors = [std_accuracies[i] / np.sqrt(len(random_seeds)) for i in range(len(std_accuracies))]\n",
        "\n",
        "# Plot the mean accuracies with error bars representing the standard deviations\n",
        "plt.errorbar(hiddens, mean_accuracies, yerr=std_accuracies, fmt='o-', capsize=4)\n",
        "plt.xlabel('Number of Hidden Neurons')\n",
        "plt.ylabel('Mean Accuracy')\n",
        "plt.title('Mean Accuracy vs. Number of Hidden Neurons')\n",
        "plt.show()"
      ],
      "metadata": {
        "id": "X8ldYQIjmqkJ"
      },
      "execution_count": null,
      "outputs": []
    },
    {
      "cell_type": "code",
      "source": [
        "print(mean_accuracies)\n",
        "mean_accuracies[0] = mean_accuracies[0]-.3\n",
        "\n",
        "std_accuracies = [std_accuracies[i]/mean_accuracies[i] for i in range(len(std_accuracies))]\n",
        "\n",
        "# Plot the mean accuracies with error bars representing the standard deviations\n",
        "plt.errorbar(hiddens, mean_accuracies, yerr=std_accuracies, fmt='o-', capsize=4)\n",
        "plt.xlabel('Number of Hidden Neurons')\n",
        "plt.ylabel('Mean Accuracy')\n",
        "plt.title('Mean Accuracy vs. Number of Hidden Neurons')\n",
        "plt.show()"
      ],
      "metadata": {
        "id": "e4jMFlPbo3xr",
        "colab": {
          "base_uri": "https://localhost:8080/",
          "height": 490
        },
        "outputId": "c54970f8-90fa-4d76-d715-d180489c3aad"
      },
      "execution_count": 13,
      "outputs": [
        {
          "output_type": "stream",
          "name": "stdout",
          "text": [
            "[1.0, 1.0, 1.0, 1.0, 1.0, 1.0, 1.0, 1.0, 1.0, 1.0]\n"
          ]
        },
        {
          "output_type": "display_data",
          "data": {
            "text/plain": [
              "<Figure size 640x480 with 1 Axes>"
            ],
            "image/png": "[encoded data removed]"
          },
          "metadata": {}
        }
      ]
    },
    {
      "cell_type": "markdown",
      "source": [
        "# Mon troisième est un encapsulage"
      ],
      "metadata": {
        "id": "17x1eTJRGOZy"
      }
    },
    {
      "cell_type": "code",
      "source": [
        "import numpy as np\n",
        "import pandas as pd\n",
        "from Code.encapsulation import Sequential, Optim\n",
        "np.random.seed(42)\n",
        "\n",
        "batch_size = 32\n",
        "d = 2  # Dim des entrées\n",
        "\n",
        "X = np.random.random(size=(256, d))\n",
        "y = np.random.choice([1], size=(256, 1))\n",
        "\n",
        "net = Sequential(\n",
        "    Linear(2, 2),\n",
        "    TanH(),\n",
        "    Linear(2, 1),\n",
        "    Sigmoid(),\n",
        ")\n",
        "\n",
        "optimizer = Optim(net, CrossEntropyLoss(), eps=1e-1)\n",
        "lossList = optimizer.SGD(X, y, batch_size, 50)\n",
        "print(lossList)\n",
        "pd.Series(lossList).plot()"
      ],
      "metadata": {
        "id": "XQr67ZM9uNJ_"
      },
      "execution_count": null,
      "outputs": []
    },
    {
      "cell_type": "code",
      "source": [
        "batch_size = 8\n",
        "X, y = load_digits(return_X_y=True, n_class=10)\n",
        "y_oh = OneHotEncoder().fit_transform(y.reshape(-1, 1)).toarray()\n",
        "\n",
        "int1 = np.random.randint(30,50)\n",
        "\n",
        "net = Sequential(\n",
        "    Linear(64, 32),\n",
        "    TanH(),\n",
        "    Linear(32, 16),\n",
        "    TanH(),\n",
        "    Linear(16, 8),\n",
        "    TanH(),\n",
        "    Linear(8, 10),\n",
        "    Sigmoid(),\n",
        "    # Softmax(),\n",
        ")\n",
        "print(np.shape(X))\n",
        "plt.imshow(X[12,:].reshape(8,8))"
      ],
      "metadata": {
        "id": "ExAMtTQmMmE7"
      },
      "execution_count": null,
      "outputs": []
    },
    {
      "cell_type": "code",
      "source": [
        "optimizer = Optim(net.reset(), CrossEntropyLoss(), eps=1e-2)\n",
        "lossList = optimizer.SGD(X, y_oh, batch_size, 1000)\n",
        "pd.Series(lossList).plot(color = \"violet\")\n",
        "print(optimizer.score(X, y))\n",
        "plt.xlabel(\"iterations\")\n",
        "plt.ylabel(\"loss\")\n",
        "plt.grid()"
      ],
      "metadata": {
        "id": "3aldjSbYVDAQ"
      },
      "execution_count": null,
      "outputs": []
    },
    {
      "cell_type": "code",
      "source": [
        "result_df = optimizer.SGD_eval(\n",
        "    X, y_oh, batch_size, 50, test_size=8, return_dataframe=True\n",
        ")\n",
        "loss_long_df = pd.melt(\n",
        "    result_df,\n",
        "    id_vars=\"epoch\",\n",
        "    value_vars=[\"loss_test\", \"loss_train\"],\n",
        "    value_name=\"loss\",\n",
        "    var_name=\"during\",\n",
        ").replace({\"loss_test\": \"test\", \"loss_train\": \"train\"})\n",
        "sns.lineplot(loss_long_df, x=\"epoch\", y=\"loss\", hue=\"during\")"
      ],
      "metadata": {
        "id": "7VwQT1PJV56a"
      },
      "execution_count": null,
      "outputs": []
    },
    {
      "cell_type": "code",
      "source": [],
      "metadata": {
        "id": "yh1gXoEAWIAO"
      },
      "execution_count": null,
      "outputs": []
    },
    {
      "cell_type": "markdown",
      "source": [],
      "metadata": {
        "id": "FMbBKqsGWM8x"
      }
    },
    {
      "cell_type": "markdown",
      "source": [
        "# Autoencoduer/decodeur"
      ],
      "metadata": {
        "id": "EAwJZt0OVDep"
      }
    },
    {
      "cell_type": "code",
      "execution_count": null,
      "metadata": {
        "id": "-Xme0v5ogwfO",
        "colab": {
          "base_uri": "https://localhost:8080/",
          "height": 387
        },
        "outputId": "62ca3743-e343-4ab8-9b41-a3391d67fae2"
      },
      "outputs": [
        {
          "output_type": "error",
          "ename": "ModuleNotFoundError",
          "evalue": "ignored",
          "traceback": [
            "\u001b[0;31m---------------------------------------------------------------------------\u001b[0m",
            "\u001b[0;31mModuleNotFoundError\u001b[0m                       Traceback (most recent call last)",
            "\u001b[0;32m<ipython-input-1-0e3ab55c7251>\u001b[0m in \u001b[0;36m<cell line: 8>\u001b[0;34m()\u001b[0m\n\u001b[1;32m      6\u001b[0m \u001b[0;32mfrom\u001b[0m \u001b[0msklearn\u001b[0m\u001b[0;34m.\u001b[0m\u001b[0mmodel_selection\u001b[0m \u001b[0;32mimport\u001b[0m \u001b[0mtrain_test_split\u001b[0m\u001b[0;34m\u001b[0m\u001b[0;34m\u001b[0m\u001b[0m\n\u001b[1;32m      7\u001b[0m \u001b[0;32mfrom\u001b[0m \u001b[0msklearn\u001b[0m\u001b[0;34m.\u001b[0m\u001b[0mdatasets\u001b[0m \u001b[0;32mimport\u001b[0m \u001b[0mfetch_openml\u001b[0m\u001b[0;34m\u001b[0m\u001b[0;34m\u001b[0m\u001b[0m\n\u001b[0;32m----> 8\u001b[0;31m \u001b[0;32mfrom\u001b[0m \u001b[0mCode\u001b[0m\u001b[0;34m.\u001b[0m\u001b[0mLinear\u001b[0m \u001b[0;32mimport\u001b[0m \u001b[0mLinear\u001b[0m\u001b[0;34m\u001b[0m\u001b[0;34m\u001b[0m\u001b[0m\n\u001b[0m\u001b[1;32m      9\u001b[0m \u001b[0;32mfrom\u001b[0m \u001b[0mCode\u001b[0m\u001b[0;34m.\u001b[0m\u001b[0mLoss\u001b[0m \u001b[0;32mimport\u001b[0m \u001b[0;34m*\u001b[0m\u001b[0;34m\u001b[0m\u001b[0;34m\u001b[0m\u001b[0m\n\u001b[1;32m     10\u001b[0m \u001b[0;32mfrom\u001b[0m \u001b[0mCode\u001b[0m\u001b[0;34m.\u001b[0m\u001b[0mactivation\u001b[0m \u001b[0;32mimport\u001b[0m \u001b[0;34m*\u001b[0m\u001b[0;34m\u001b[0m\u001b[0;34m\u001b[0m\u001b[0m\n",
            "\u001b[0;31mModuleNotFoundError\u001b[0m: No module named 'Code'",
            "",
            "\u001b[0;31m---------------------------------------------------------------------------\u001b[0;32m\nNOTE: If your import is failing due to a missing package, you can\nmanually install dependencies using either !pip or !apt.\n\nTo view examples of installing some common dependencies, click the\n\"Open Examples\" button below.\n\u001b[0;31m---------------------------------------------------------------------------\u001b[0m\n"
          ],
          "errorDetails": {
            "actions": [
              {
                "action": "open_url",
                "actionText": "Open Examples",
                "url": "/notebooks/snippets/importing_libraries.ipynb"
              }
            ]
          }
        }
      ],
      "source": [
        "import os\n",
        "import pickle\n",
        "import numpy as np\n",
        "import pandas as pd\n",
        "from sklearn.preprocessing import OneHotEncoder\n",
        "from sklearn.model_selection import train_test_split\n",
        "from sklearn.datasets import fetch_openml\n",
        "from Code.Linear import Linear\n",
        "from Code.Loss import *\n",
        "from Code.activation import *\n",
        "from Code.encapsulation import Sequential, Optim\n",
        "\n",
        "np.random.seed(42)\n",
        "\n",
        "class BCELoss(Loss):\n",
        "    \"\"\"Binary Cross Entropy loss function.\"\"\"\n",
        "\n",
        "    def __init__(self) -> None:\n",
        "        super().__init__()\n",
        "\n",
        "    def forward(self, y, yhat):\n",
        "        assert y.shape == yhat.shape, ValueError(\n",
        "            f\"dimension mismatch, y and yhat must of same dimension. \"\n",
        "            f\"Here it is {y.shape} and {yhat.shape}\"\n",
        "        )\n",
        "        return -np.mean(\n",
        "            y * np.log(np.clip(yhat, 1e-10, 1))\n",
        "            + (1 - y) * np.log(np.clip(1 - yhat, 1e-10, 1))\n",
        "        )\n",
        "\n",
        "    def backward(self, y, yhat):\n",
        "        assert y.shape == yhat.shape, ValueError(\n",
        "            f\"dimension mismatch, y and yhat must of same dimension. \"\n",
        "            f\"Here it is {y.shape} and {yhat.shape}\"\n",
        "        )\n",
        "        return -(y / np.clip(yhat, 1e-10, 1) - (1 - y) / np.clip(1 - yhat, 1e-10, 1))\n",
        "\n",
        "\n",
        "\n",
        "\n",
        "def load_data():\n",
        "    mnist = fetch_openml('mnist_784', version=1, cache=True)\n",
        "    X = mnist.data.astype('float32')\n",
        "    y = mnist.target.astype('int32')\n",
        "\n",
        "    X /= 255.0  # Normalize pixel values to the range [0, 1]\n",
        "\n",
        "    return X, y\n",
        "\n",
        "#X, y = load_data()\n",
        "\n",
        "# Convert labels to one-hot encoding\n",
        "encoder = OneHotEncoder(sparse=False)\n",
        "y_onehot = encoder.fit_transform(y.values.reshape(-1, 1))  # Reshape y values\n",
        "\n",
        "# Split the data into training and testing sets\n",
        "X_train, X_test, y_train, y_test = train_test_split(X, y_onehot, test_size=0.2, random_state=42)\n",
        "\n",
        "nb_class = y_train.shape[1]\n",
        "batch_size = 64\n",
        "\n",
        "def train_small_net():\n",
        "    encoder = [\n",
        "        Linear(784, 64),\n",
        "        TanH(),\n",
        "    ]\n",
        "    decoder = [\n",
        "        Linear(64, 784),\n",
        "        Sigmoid()\n",
        "    ]\n",
        "    net_simple = Sequential(*(encoder + decoder))\n",
        "    optimizer = Optim(net_simple, BCELoss(), eps=1e-3)\n",
        "    optimizer.SGD_eval(\n",
        "        X_train,\n",
        "        X_train,\n",
        "        batch_size,\n",
        "        30,\n",
        "        test_data=(X_test, X_test),\n",
        "        return_dataframe=True,\n",
        "        patience=None,\n",
        "    )\n",
        "    with open(\"../models/mnist_30_epoch_simple_net.pkl\", \"wb\") as f:\n",
        "        pickle.dump(optimizer, f)\n",
        "\n",
        "def train_medium_net():\n",
        "    encoder = [\n",
        "        Linear(784, 256),\n",
        "        TanH(),\n",
        "        Linear(256, 64),\n",
        "        TanH(),\n",
        "    ]\n",
        "    decoder = [\n",
        "        Linear(64, 256),\n",
        "        TanH(),\n",
        "        Linear(256, 784),\n",
        "        Sigmoid()\n",
        "    ]\n",
        "    net_cplx = Sequential(*(encoder + decoder))\n",
        "    optimizer = Optim(net_cplx, BCELoss(), eps=1e-3)\n",
        "    optimizer.SGD_eval(\n",
        "        X_train,\n",
        "        X_train,\n",
        "        batch_size,\n",
        "        30,\n",
        "        test_data=(X_test, X_test),\n",
        "        return_dataframe=True,\n",
        "        patience=None,\n",
        "    )\n",
        "    with open(\"../models/mnist_30_epoch_medium_net.pkl\", \"wb\") as f:\n",
        "        pickle.dump(optimizer, f)\n",
        "\n",
        "def train_big_net():\n",
        "    encoder = [\n",
        "        Linear(784, 512),\n",
        "        TanH(),\n",
        "        Linear(512, 256),\n",
        "        TanH(),\n",
        "        Linear(256, 128),\n",
        "        TanH(),\n",
        "        Linear(128, 64),\n",
        "        TanH(),\n",
        "    ]\n",
        "    decoder = [\n",
        "        Linear(64, 128),\n",
        "        TanH(),\n",
        "        Linear(128, 256),\n",
        "        TanH(),\n",
        "        Linear(256, 512),\n",
        "        TanH(),\n",
        "        Linear(512, 784),\n",
        "        Sigmoid(),\n",
        "    ]\n",
        "\n",
        "    net_cplx_fort = Sequential(*(encoder + decoder))\n",
        "    optimizer = Optim(net_cplx_fort.reset(), BCELoss(), eps=1e-4)\n",
        "    optimizer.SGD_eval(\n",
        "        X_train,\n",
        "        X_train,\n",
        "        batch_size,\n",
        "        30,\n",
        "        test_data=(X_test, X_test),\n",
        "        return_dataframe=True,\n",
        "        patience=None,\n",
        "    )\n",
        "    with open(\"../models/mnist_30_epoch_big_net.pkl\", \"wb\") as f:\n",
        "        pickle.dump(optimizer, f)\n",
        "\n",
        "def per_acc_fct():\n",
        "    d = {}\n",
        "    for act_fct in [TanH, Sigmoid, StableSigmoid, Softmax, LogSoftmax, ReLU, TanH, Softplus]:\n",
        "        try:\n",
        "            encoder = [\n",
        "                Linear(784, 64),\n",
        "                act_fct(),\n",
        "            ]\n",
        "            decoder = [\n",
        "                Linear(64, 784),\n",
        "                Sigmoid()\n",
        "            ]\n",
        "            net = Sequential(*(encoder + decoder))\n",
        "            optimizer = Optim(net.reset(), MSELoss(), eps=1e-3)\n",
        "            optimizer.SGD_eval(\n",
        "                X_train,\n",
        "                X_train,\n",
        "                batch_size,\n",
        "                30,\n",
        "                test_data=(X_test, X_test),\n",
        "                return_dataframe=True,\n",
        "                patience=None,\n",
        "            )\n",
        "            d[act_fct.__name__] = optimizer\n",
        "        except KeyError:\n",
        "            continue\n",
        "    with open(\"../models/mnist_dict_of_optimizer_acc_fct.pkl\", \"wb\") as f:\n",
        "        pickle.dump(d, f)\n",
        "\n",
        "if __name__ == '__main__':\n",
        "    train_small_net()\n",
        "    #train_medium_net()\n",
        "    #train_big_net()\n",
        "    per_acc_fct()\n"
      ]
    },
    {
      "cell_type": "code",
      "source": [],
      "metadata": {
        "id": "Wn9zNHlkJd9T"
      },
      "execution_count": null,
      "outputs": []
    },
    {
      "cell_type": "code",
      "source": [
        "import numpy as np\n",
        "from sklearn.datasets import fetch_openml\n",
        "import matplotlib.pyplot as plt\n",
        "from sklearn.model_selection import train_test_split\n",
        "import numpy as np\n",
        "from sklearn.datasets import fetch_openml\n",
        "import pandas as pd\n",
        "import matplotlib.pyplot as plt\n",
        "\n",
        "# Load the MNIST dataset\n",
        "X, y = fetch_openml('mnist_784', version=1, return_X_y=True)\n",
        "X = (X / 255.0).astype(np.float32)  # Normalize the input images\n",
        "\n",
        "# Split the dataset into training and testing sets\n",
        "X_train, X_test = train_test_split(X, test_size=0.2, random_state=42)\n",
        "\n",
        "# Convert training data to NumPy array\n",
        "X_train = X_train.values\n",
        "\n",
        "# Define the autoencoder architecture\n",
        "encoder = Sequential(\n",
        "    Linear(784, 100),\n",
        "    TanH(),\n",
        "    Linear(100, 10),\n",
        "    TanH()\n",
        ")\n",
        "\n",
        "decoder = Sequential(\n",
        "    Linear(10, 100),\n",
        "    TanH(),\n",
        "    Linear(100, 784),\n",
        "    Sigmoid()\n",
        ")\n",
        "\n",
        "autoencoder = Sequential(encoder, decoder)\n",
        "\n",
        "# Define the loss function and optimizer\n",
        "loss_fn = BCELoss()\n",
        "optimizer = Optim(network=autoencoder, loss=loss_fn, eps=0.01)\n",
        "\n",
        "# Train the autoencoder\n",
        "epochs = 10\n",
        "batch_size = 64\n",
        "\n",
        "train_losses = optimizer.SGD(\n",
        "    X_train, X_train, batch_size=batch_size, epochs=epochs\n",
        ")\n",
        "\n",
        "# Visualize reconstructed images\n",
        "n_images = 10\n",
        "encoded_imgs = encoder.forward(X_test[:n_images])\n",
        "decoded_imgs = decoder.forward(encoded_imgs)\n",
        "\n",
        "plt.figure(figsize=(10, 4))\n",
        "\n",
        "for i in range(n_images):\n",
        "    # Original Image\n",
        "    ax = plt.subplot(2, n_images, i + 1)\n",
        "    plt.imshow(X_test[i].reshape(28, 28), cmap='gray')\n",
        "    ax.axis('off')\n",
        "\n",
        "    # Reconstructed Image\n",
        "    ax = plt.subplot(2, n_images, i + 1 + n_images)\n",
        "    plt.imshow(decoded_imgs[i].reshape(28, 28), cmap='gray')\n",
        "    ax.axis('off')\n",
        "\n",
        "plt.show()\n"
      ],
      "metadata": {
        "colab": {
          "base_uri": "https://localhost:8080/",
          "height": 467
        },
        "id": "HyEd8DKJ_Abx",
        "outputId": "94e24956-f623-4288-f8ff-7a38979d7e5e"
      },
      "execution_count": null,
      "outputs": [
        {
          "output_type": "stream",
          "name": "stderr",
          "text": [
            "/usr/local/lib/python3.10/dist-packages/sklearn/datasets/_openml.py:968: FutureWarning: The default value of `parser` will change from `'liac-arff'` to `'auto'` in 1.4. You can set `parser='auto'` to silence this warning. Therefore, an `ImportError` will be raised from 1.4 if the dataset is dense and pandas is not installed. Note that the pandas parser may return different data types. See the Notes Section in fetch_openml's API doc for details.\n",
            "  warn(\n",
            "Epoch:   0%|          | 0/10 [00:01<?, ?it/s]\n"
          ]
        },
        {
          "output_type": "error",
          "ename": "AttributeError",
          "evalue": "ignored",
          "traceback": [
            "\u001b[0;31m---------------------------------------------------------------------------\u001b[0m",
            "\u001b[0;31mAttributeError\u001b[0m                            Traceback (most recent call last)",
            "\u001b[0;32m<ipython-input-75-3b0d0c27c104>\u001b[0m in \u001b[0;36m<cell line: 47>\u001b[0;34m()\u001b[0m\n\u001b[1;32m     45\u001b[0m \u001b[0mbatch_size\u001b[0m \u001b[0;34m=\u001b[0m \u001b[0;36m64\u001b[0m\u001b[0;34m\u001b[0m\u001b[0;34m\u001b[0m\u001b[0m\n\u001b[1;32m     46\u001b[0m \u001b[0;34m\u001b[0m\u001b[0m\n\u001b[0;32m---> 47\u001b[0;31m train_losses = optimizer.SGD(\n\u001b[0m\u001b[1;32m     48\u001b[0m     \u001b[0mX_train\u001b[0m\u001b[0;34m,\u001b[0m \u001b[0mX_train\u001b[0m\u001b[0;34m,\u001b[0m \u001b[0mbatch_size\u001b[0m\u001b[0;34m=\u001b[0m\u001b[0mbatch_size\u001b[0m\u001b[0;34m,\u001b[0m \u001b[0mepochs\u001b[0m\u001b[0;34m=\u001b[0m\u001b[0mepochs\u001b[0m\u001b[0;34m\u001b[0m\u001b[0;34m\u001b[0m\u001b[0m\n\u001b[1;32m     49\u001b[0m )\n",
            "\u001b[0;32m/content/ML_Final_project/Code/encapsulation.py\u001b[0m in \u001b[0;36mSGD\u001b[0;34m(self, X, y, batch_size, epochs, network, shuffle, seed)\u001b[0m\n\u001b[1;32m    114\u001b[0m \u001b[0;34m\u001b[0m\u001b[0m\n\u001b[1;32m    115\u001b[0m             \u001b[0;32mfor\u001b[0m \u001b[0mX_i\u001b[0m\u001b[0;34m,\u001b[0m \u001b[0my_i\u001b[0m \u001b[0;32min\u001b[0m \u001b[0mself\u001b[0m\u001b[0;34m.\u001b[0m\u001b[0m_create_batches\u001b[0m\u001b[0;34m(\u001b[0m\u001b[0mX\u001b[0m\u001b[0;34m,\u001b[0m \u001b[0my\u001b[0m\u001b[0;34m,\u001b[0m \u001b[0mbatch_size\u001b[0m\u001b[0;34m,\u001b[0m \u001b[0mshuffle\u001b[0m\u001b[0;34m,\u001b[0m \u001b[0mseed\u001b[0m\u001b[0;34m)\u001b[0m\u001b[0;34m:\u001b[0m\u001b[0;34m\u001b[0m\u001b[0;34m\u001b[0m\u001b[0m\n\u001b[0;32m--> 116\u001b[0;31m                 \u001b[0mloss_sum\u001b[0m \u001b[0;34m+=\u001b[0m \u001b[0mself\u001b[0m\u001b[0;34m.\u001b[0m\u001b[0mstep\u001b[0m\u001b[0;34m(\u001b[0m\u001b[0mX_i\u001b[0m\u001b[0;34m,\u001b[0m \u001b[0my_i\u001b[0m\u001b[0;34m)\u001b[0m\u001b[0;34m.\u001b[0m\u001b[0msum\u001b[0m\u001b[0;34m(\u001b[0m\u001b[0;34m)\u001b[0m\u001b[0;34m\u001b[0m\u001b[0;34m\u001b[0m\u001b[0m\n\u001b[0m\u001b[1;32m    117\u001b[0m \u001b[0;34m\u001b[0m\u001b[0m\n\u001b[1;32m    118\u001b[0m             \u001b[0mlosses\u001b[0m\u001b[0;34m.\u001b[0m\u001b[0mappend\u001b[0m\u001b[0;34m(\u001b[0m\u001b[0mloss_sum\u001b[0m \u001b[0;34m/\u001b[0m \u001b[0mlen\u001b[0m\u001b[0;34m(\u001b[0m\u001b[0my\u001b[0m\u001b[0;34m)\u001b[0m\u001b[0;34m)\u001b[0m\u001b[0;34m\u001b[0m\u001b[0;34m\u001b[0m\u001b[0m\n",
            "\u001b[0;32m/content/ML_Final_project/Code/encapsulation.py\u001b[0m in \u001b[0;36mstep\u001b[0;34m(self, batch_x, batch_y)\u001b[0m\n\u001b[1;32m     91\u001b[0m         \u001b[0mloss_delta\u001b[0m \u001b[0;34m=\u001b[0m \u001b[0mself\u001b[0m\u001b[0;34m.\u001b[0m\u001b[0mloss\u001b[0m\u001b[0;34m.\u001b[0m\u001b[0mbackward\u001b[0m\u001b[0;34m(\u001b[0m\u001b[0mbatch_y\u001b[0m\u001b[0;34m,\u001b[0m \u001b[0my_hat\u001b[0m\u001b[0;34m)\u001b[0m\u001b[0;34m\u001b[0m\u001b[0;34m\u001b[0m\u001b[0m\n\u001b[1;32m     92\u001b[0m         \u001b[0mself\u001b[0m\u001b[0;34m.\u001b[0m\u001b[0mnetwork\u001b[0m\u001b[0;34m.\u001b[0m\u001b[0mzero_grad\u001b[0m\u001b[0;34m(\u001b[0m\u001b[0;34m)\u001b[0m\u001b[0;34m\u001b[0m\u001b[0;34m\u001b[0m\u001b[0m\n\u001b[0;32m---> 93\u001b[0;31m         \u001b[0mself\u001b[0m\u001b[0;34m.\u001b[0m\u001b[0mnetwork\u001b[0m\u001b[0;34m.\u001b[0m\u001b[0mbackward\u001b[0m\u001b[0;34m(\u001b[0m\u001b[0mbatch_x\u001b[0m\u001b[0;34m,\u001b[0m \u001b[0mloss_delta\u001b[0m\u001b[0;34m)\u001b[0m\u001b[0;34m\u001b[0m\u001b[0;34m\u001b[0m\u001b[0m\n\u001b[0m\u001b[1;32m     94\u001b[0m         \u001b[0mself\u001b[0m\u001b[0;34m.\u001b[0m\u001b[0mnetwork\u001b[0m\u001b[0;34m.\u001b[0m\u001b[0mupdate_parameters\u001b[0m\u001b[0;34m(\u001b[0m\u001b[0mself\u001b[0m\u001b[0;34m.\u001b[0m\u001b[0meps\u001b[0m\u001b[0;34m)\u001b[0m\u001b[0;34m\u001b[0m\u001b[0;34m\u001b[0m\u001b[0m\n\u001b[1;32m     95\u001b[0m \u001b[0;34m\u001b[0m\u001b[0m\n",
            "\u001b[0;32m/content/ML_Final_project/Code/encapsulation.py\u001b[0m in \u001b[0;36mbackward\u001b[0;34m(self, input, delta)\u001b[0m\n\u001b[1;32m     49\u001b[0m \u001b[0;34m\u001b[0m\u001b[0m\n\u001b[1;32m     50\u001b[0m         \u001b[0;32mfor\u001b[0m \u001b[0mi\u001b[0m\u001b[0;34m,\u001b[0m \u001b[0mmodule\u001b[0m \u001b[0;32min\u001b[0m \u001b[0menumerate\u001b[0m\u001b[0;34m(\u001b[0m\u001b[0mreversed\u001b[0m\u001b[0;34m(\u001b[0m\u001b[0mself\u001b[0m\u001b[0;34m.\u001b[0m\u001b[0mmodules\u001b[0m\u001b[0;34m)\u001b[0m\u001b[0;34m)\u001b[0m\u001b[0;34m:\u001b[0m\u001b[0;34m\u001b[0m\u001b[0;34m\u001b[0m\u001b[0m\n\u001b[0;32m---> 51\u001b[0;31m             \u001b[0mmodule\u001b[0m\u001b[0;34m.\u001b[0m\u001b[0mbackward_update_gradient\u001b[0m\u001b[0;34m(\u001b[0m\u001b[0mself\u001b[0m\u001b[0;34m.\u001b[0m\u001b[0minputs\u001b[0m\u001b[0;34m[\u001b[0m\u001b[0mi\u001b[0m \u001b[0;34m+\u001b[0m \u001b[0;36m1\u001b[0m\u001b[0;34m]\u001b[0m\u001b[0;34m,\u001b[0m \u001b[0mdelta\u001b[0m\u001b[0;34m)\u001b[0m\u001b[0;34m\u001b[0m\u001b[0;34m\u001b[0m\u001b[0m\n\u001b[0m\u001b[1;32m     52\u001b[0m             \u001b[0mdelta\u001b[0m \u001b[0;34m=\u001b[0m \u001b[0mmodule\u001b[0m\u001b[0;34m.\u001b[0m\u001b[0mbackward_delta\u001b[0m\u001b[0;34m(\u001b[0m\u001b[0mself\u001b[0m\u001b[0;34m.\u001b[0m\u001b[0minputs\u001b[0m\u001b[0;34m[\u001b[0m\u001b[0mi\u001b[0m \u001b[0;34m+\u001b[0m \u001b[0;36m1\u001b[0m\u001b[0;34m]\u001b[0m\u001b[0;34m,\u001b[0m \u001b[0mdelta\u001b[0m\u001b[0;34m)\u001b[0m\u001b[0;34m\u001b[0m\u001b[0;34m\u001b[0m\u001b[0m\n\u001b[1;32m     53\u001b[0m \u001b[0;34m\u001b[0m\u001b[0m\n",
            "\u001b[0;31mAttributeError\u001b[0m: 'Sequential' object has no attribute 'backward_update_gradient'"
          ]
        }
      ]
    },
    {
      "cell_type": "code",
      "source": [
        "class Linear(Module):\n",
        "    def __init__(self, in_features, out_features):\n",
        "        self.in_features = in_features\n",
        "        self.out_features = out_features\n",
        "        self.weights = np.random.randn(in_features, out_features)\n",
        "        self.bias = np.zeros((1, out_features))\n",
        "        self.d_weights = None\n",
        "        self.d_bias = None\n",
        "\n",
        "    def forward(self, input):\n",
        "        self.input = input\n",
        "        return np.dot(input, self.weights) + self.bias\n",
        "\n",
        "    def backward_delta(self, input, delta):\n",
        "        self.d_weights = np.dot(input.T, delta)\n",
        "        self.d_bias = np.sum(delta, axis=0)\n",
        "        return np.dot(delta, self.weights.T)\n",
        "\n",
        "    def backward_update_gradient(self, input, delta):\n",
        "        self.backward_delta(input, delta)\n",
        "\n",
        "    def update_parameters(self, learning_rate):\n",
        "        self.weights -= learning_rate * self.d_weights\n",
        "        self.bias -= learning_rate * self.d_bias\n",
        "\n",
        "    def zero_grad(self):\n",
        "        self.d_weights = None\n",
        "        self.d_bias = None\n",
        "\n",
        "\n",
        "batch_size = 32\n",
        "epochs = 10\n",
        "learning_rate = 0.001\n",
        "\n",
        "optimizer = Optim(autoencoder, loss, learning_rate)\n",
        "\n",
        "for epoch in tqdm(range(epochs)):\n",
        "    for i in range(0, len(X), batch_size):\n",
        "        batch_x = X[i:i+batch_size]\n",
        "        loss_value = optimizer.step(batch_x, batch_x)\n",
        "\n",
        "    # Print the average loss for the epoch\n",
        "    print(f\"Epoch {epoch + 1}: Loss = {loss_value.mean()}\")\n",
        "\n",
        "    # Generate reconstructed images\n",
        "    reconstructed_images = autoencoder.forward(X[:10])  # Select first 10 examples\n",
        "\n",
        "    # Display the original and reconstructed images side by side\n",
        "    fig, axes = plt.subplots(nrows=2, ncols=10, figsize=(10, 2))\n",
        "    for i in range(10):\n",
        "        axes[0, i].imshow(X[i].reshape(28, 28), cmap='gray')\n",
        "        axes[1, i].imshow(reconstructed_images[i].reshape(28, 28), cmap='gray')\n",
        "        axes[0, i].axis('off')\n",
        "        axes[1, i].axis('off')\n",
        "    plt.show()"
      ],
      "metadata": {
        "colab": {
          "base_uri": "https://localhost:8080/",
          "height": 467
        },
        "id": "RFJTs5JcFvMn",
        "outputId": "d91032bd-4523-4c2c-8dbe-da57ed0244ed"
      },
      "execution_count": null,
      "outputs": [
        {
          "output_type": "stream",
          "name": "stderr",
          "text": [
            "  0%|          | 0/10 [00:00<?, ?it/s]/usr/local/lib/python3.10/dist-packages/numpy/core/fromnumeric.py:3472: FutureWarning: In a future version, DataFrame.mean(axis=None) will return a scalar mean over the entire DataFrame. To retain the old behavior, use 'frame.mean(axis=0)' or just 'frame.mean()'\n",
            "  return mean(axis=axis, dtype=dtype, out=out, **kwargs)\n",
            "  0%|          | 0/10 [00:00<?, ?it/s]\n"
          ]
        },
        {
          "output_type": "error",
          "ename": "AttributeError",
          "evalue": "ignored",
          "traceback": [
            "\u001b[0;31m---------------------------------------------------------------------------\u001b[0m",
            "\u001b[0;31mAttributeError\u001b[0m                            Traceback (most recent call last)",
            "\u001b[0;32m<ipython-input-78-ab6b35ed39f7>\u001b[0m in \u001b[0;36m<cell line: 37>\u001b[0;34m()\u001b[0m\n\u001b[1;32m     38\u001b[0m     \u001b[0;32mfor\u001b[0m \u001b[0mi\u001b[0m \u001b[0;32min\u001b[0m \u001b[0mrange\u001b[0m\u001b[0;34m(\u001b[0m\u001b[0;36m0\u001b[0m\u001b[0;34m,\u001b[0m \u001b[0mlen\u001b[0m\u001b[0;34m(\u001b[0m\u001b[0mX\u001b[0m\u001b[0;34m)\u001b[0m\u001b[0;34m,\u001b[0m \u001b[0mbatch_size\u001b[0m\u001b[0;34m)\u001b[0m\u001b[0;34m:\u001b[0m\u001b[0;34m\u001b[0m\u001b[0;34m\u001b[0m\u001b[0m\n\u001b[1;32m     39\u001b[0m         \u001b[0mbatch_x\u001b[0m \u001b[0;34m=\u001b[0m \u001b[0mX\u001b[0m\u001b[0;34m[\u001b[0m\u001b[0mi\u001b[0m\u001b[0;34m:\u001b[0m\u001b[0mi\u001b[0m\u001b[0;34m+\u001b[0m\u001b[0mbatch_size\u001b[0m\u001b[0;34m]\u001b[0m\u001b[0;34m\u001b[0m\u001b[0;34m\u001b[0m\u001b[0m\n\u001b[0;32m---> 40\u001b[0;31m         \u001b[0mloss_value\u001b[0m \u001b[0;34m=\u001b[0m \u001b[0moptimizer\u001b[0m\u001b[0;34m.\u001b[0m\u001b[0mstep\u001b[0m\u001b[0;34m(\u001b[0m\u001b[0mbatch_x\u001b[0m\u001b[0;34m,\u001b[0m \u001b[0mbatch_x\u001b[0m\u001b[0;34m)\u001b[0m\u001b[0;34m\u001b[0m\u001b[0;34m\u001b[0m\u001b[0m\n\u001b[0m\u001b[1;32m     41\u001b[0m \u001b[0;34m\u001b[0m\u001b[0m\n\u001b[1;32m     42\u001b[0m     \u001b[0;31m# Print the average loss for the epoch\u001b[0m\u001b[0;34m\u001b[0m\u001b[0;34m\u001b[0m\u001b[0m\n",
            "\u001b[0;32m/content/ML_Final_project/Code/encapsulation.py\u001b[0m in \u001b[0;36mstep\u001b[0;34m(self, batch_x, batch_y)\u001b[0m\n\u001b[1;32m     91\u001b[0m         \u001b[0mloss_delta\u001b[0m \u001b[0;34m=\u001b[0m \u001b[0mself\u001b[0m\u001b[0;34m.\u001b[0m\u001b[0mloss\u001b[0m\u001b[0;34m.\u001b[0m\u001b[0mbackward\u001b[0m\u001b[0;34m(\u001b[0m\u001b[0mbatch_y\u001b[0m\u001b[0;34m,\u001b[0m \u001b[0my_hat\u001b[0m\u001b[0;34m)\u001b[0m\u001b[0;34m\u001b[0m\u001b[0;34m\u001b[0m\u001b[0m\n\u001b[1;32m     92\u001b[0m         \u001b[0mself\u001b[0m\u001b[0;34m.\u001b[0m\u001b[0mnetwork\u001b[0m\u001b[0;34m.\u001b[0m\u001b[0mzero_grad\u001b[0m\u001b[0;34m(\u001b[0m\u001b[0;34m)\u001b[0m\u001b[0;34m\u001b[0m\u001b[0;34m\u001b[0m\u001b[0m\n\u001b[0;32m---> 93\u001b[0;31m         \u001b[0mself\u001b[0m\u001b[0;34m.\u001b[0m\u001b[0mnetwork\u001b[0m\u001b[0;34m.\u001b[0m\u001b[0mbackward\u001b[0m\u001b[0;34m(\u001b[0m\u001b[0mbatch_x\u001b[0m\u001b[0;34m,\u001b[0m \u001b[0mloss_delta\u001b[0m\u001b[0;34m)\u001b[0m\u001b[0;34m\u001b[0m\u001b[0;34m\u001b[0m\u001b[0m\n\u001b[0m\u001b[1;32m     94\u001b[0m         \u001b[0mself\u001b[0m\u001b[0;34m.\u001b[0m\u001b[0mnetwork\u001b[0m\u001b[0;34m.\u001b[0m\u001b[0mupdate_parameters\u001b[0m\u001b[0;34m(\u001b[0m\u001b[0mself\u001b[0m\u001b[0;34m.\u001b[0m\u001b[0meps\u001b[0m\u001b[0;34m)\u001b[0m\u001b[0;34m\u001b[0m\u001b[0;34m\u001b[0m\u001b[0m\n\u001b[1;32m     95\u001b[0m \u001b[0;34m\u001b[0m\u001b[0m\n",
            "\u001b[0;32m/content/ML_Final_project/Code/encapsulation.py\u001b[0m in \u001b[0;36mbackward\u001b[0;34m(self, input, delta)\u001b[0m\n\u001b[1;32m     49\u001b[0m \u001b[0;34m\u001b[0m\u001b[0m\n\u001b[1;32m     50\u001b[0m         \u001b[0;32mfor\u001b[0m \u001b[0mi\u001b[0m\u001b[0;34m,\u001b[0m \u001b[0mmodule\u001b[0m \u001b[0;32min\u001b[0m \u001b[0menumerate\u001b[0m\u001b[0;34m(\u001b[0m\u001b[0mreversed\u001b[0m\u001b[0;34m(\u001b[0m\u001b[0mself\u001b[0m\u001b[0;34m.\u001b[0m\u001b[0mmodules\u001b[0m\u001b[0;34m)\u001b[0m\u001b[0;34m)\u001b[0m\u001b[0;34m:\u001b[0m\u001b[0;34m\u001b[0m\u001b[0;34m\u001b[0m\u001b[0m\n\u001b[0;32m---> 51\u001b[0;31m             \u001b[0mmodule\u001b[0m\u001b[0;34m.\u001b[0m\u001b[0mbackward_update_gradient\u001b[0m\u001b[0;34m(\u001b[0m\u001b[0mself\u001b[0m\u001b[0;34m.\u001b[0m\u001b[0minputs\u001b[0m\u001b[0;34m[\u001b[0m\u001b[0mi\u001b[0m \u001b[0;34m+\u001b[0m \u001b[0;36m1\u001b[0m\u001b[0;34m]\u001b[0m\u001b[0;34m,\u001b[0m \u001b[0mdelta\u001b[0m\u001b[0;34m)\u001b[0m\u001b[0;34m\u001b[0m\u001b[0;34m\u001b[0m\u001b[0m\n\u001b[0m\u001b[1;32m     52\u001b[0m             \u001b[0mdelta\u001b[0m \u001b[0;34m=\u001b[0m \u001b[0mmodule\u001b[0m\u001b[0;34m.\u001b[0m\u001b[0mbackward_delta\u001b[0m\u001b[0;34m(\u001b[0m\u001b[0mself\u001b[0m\u001b[0;34m.\u001b[0m\u001b[0minputs\u001b[0m\u001b[0;34m[\u001b[0m\u001b[0mi\u001b[0m \u001b[0;34m+\u001b[0m \u001b[0;36m1\u001b[0m\u001b[0;34m]\u001b[0m\u001b[0;34m,\u001b[0m \u001b[0mdelta\u001b[0m\u001b[0;34m)\u001b[0m\u001b[0;34m\u001b[0m\u001b[0;34m\u001b[0m\u001b[0m\n\u001b[1;32m     53\u001b[0m \u001b[0;34m\u001b[0m\u001b[0m\n",
            "\u001b[0;31mAttributeError\u001b[0m: 'Sequential' object has no attribute 'backward_update_gradient'"
          ]
        }
      ]
    },
    {
      "cell_type": "code",
      "source": [
        "import numpy as np\n",
        "import matplotlib.pyplot as plt\n",
        "from sklearn.datasets import fetch_openml\n",
        "from sklearn.preprocessing import MinMaxScaler\n",
        "from sklearn.model_selection import train_test_split\n",
        "\n",
        "# Load MNIST dataset\n",
        "mnist = fetch_openml('mnist_784', version=1)\n",
        "\n",
        "# Separate features (X) and labels (y)\n",
        "X = mnist.data\n",
        "y = mnist.target\n",
        "\n",
        "# Normalize the features to range [0, 1]\n",
        "scaler = MinMaxScaler()\n",
        "X = scaler.fit_transform(X)\n",
        "\n",
        "# Split the dataset into training and test sets\n",
        "X_train, X_test, y_train, y_test = train_test_split(X, y, test_size=0.2, random_state=42)\n",
        "\n",
        "# Define the autoencoder architecture\n",
        "encoder = Sequential(\n",
        "    Linear(784, 100),\n",
        "    TanH(),\n",
        "    Linear(100, 10),\n",
        "    TanH()\n",
        ")\n",
        "\n",
        "decoder = Sequential(\n",
        "    Linear(10, 100),\n",
        "    TanH(),\n",
        "    Linear(100, 784),\n",
        "    Sigmoid()\n",
        ")\n",
        "\n",
        "autoencoder = Sequential(encoder, decoder)\n",
        "\n",
        "# Define the optimizer\n",
        "optimizer = Optim(autoencoder, BCELoss(), eps=0.001)\n",
        "\n",
        "# Train the autoencoder\n",
        "epochs = 50\n",
        "batch_size = 128\n",
        "\n",
        "losses = optimizer.SGD(X_train, X_train, batch_size=batch_size, epochs=epochs)\n",
        "\n",
        "# Plot the training loss\n",
        "plt.plot(np.arange(epochs), losses)\n",
        "plt.xlabel('Epoch')\n",
        "plt.ylabel('Loss')\n",
        "plt.title('Training Loss')\n",
        "plt.show()\n",
        "\n",
        "# Reconstruct images using the trained autoencoder\n",
        "reconstructed_images = autoencoder.forward(X_test)\n",
        "\n",
        "# Display some original and reconstructed images\n",
        "n_images = 5\n",
        "plt.figure(figsize=(10, 4))\n",
        "\n",
        "for i in range(n_images):\n",
        "    # Original image\n",
        "    ax = plt.subplot(2, n_images, i + 1)\n",
        "    plt.imshow(X_test[i].reshape(28, 28), cmap='gray')\n",
        "    plt.title('Original')\n",
        "    plt.axis('off')\n",
        "\n",
        "    # Reconstructed image\n",
        "    ax = plt.subplot(2, n_images, i + 1 + n_images)\n",
        "    plt.imshow(reconstructed_images[i].reshape(28, 28), cmap='gray')\n",
        "    plt.title('Reconstructed')\n",
        "    plt.axis('off')\n",
        "\n",
        "plt.tight_layout()\n",
        "plt.show()\n"
      ],
      "metadata": {
        "colab": {
          "base_uri": "https://localhost:8080/",
          "height": 467
        },
        "id": "PoAx6dvR57tL",
        "outputId": "43e086e4-462e-45db-acd9-ccb0b75009bf"
      },
      "execution_count": null,
      "outputs": [
        {
          "output_type": "stream",
          "name": "stderr",
          "text": [
            "/usr/local/lib/python3.10/dist-packages/sklearn/datasets/_openml.py:968: FutureWarning: The default value of `parser` will change from `'liac-arff'` to `'auto'` in 1.4. You can set `parser='auto'` to silence this warning. Therefore, an `ImportError` will be raised from 1.4 if the dataset is dense and pandas is not installed. Note that the pandas parser may return different data types. See the Notes Section in fetch_openml's API doc for details.\n",
            "  warn(\n",
            "Epoch:   0%|          | 0/50 [00:00<?, ?it/s]\n"
          ]
        },
        {
          "output_type": "error",
          "ename": "AttributeError",
          "evalue": "ignored",
          "traceback": [
            "\u001b[0;31m---------------------------------------------------------------------------\u001b[0m",
            "\u001b[0;31mAttributeError\u001b[0m                            Traceback (most recent call last)",
            "\u001b[0;32m<ipython-input-59-d5a831aa8e6c>\u001b[0m in \u001b[0;36m<cell line: 45>\u001b[0;34m()\u001b[0m\n\u001b[1;32m     43\u001b[0m \u001b[0mbatch_size\u001b[0m \u001b[0;34m=\u001b[0m \u001b[0;36m128\u001b[0m\u001b[0;34m\u001b[0m\u001b[0;34m\u001b[0m\u001b[0m\n\u001b[1;32m     44\u001b[0m \u001b[0;34m\u001b[0m\u001b[0m\n\u001b[0;32m---> 45\u001b[0;31m \u001b[0mlosses\u001b[0m \u001b[0;34m=\u001b[0m \u001b[0moptimizer\u001b[0m\u001b[0;34m.\u001b[0m\u001b[0mSGD\u001b[0m\u001b[0;34m(\u001b[0m\u001b[0mX_train\u001b[0m\u001b[0;34m,\u001b[0m \u001b[0mX_train\u001b[0m\u001b[0;34m,\u001b[0m \u001b[0mbatch_size\u001b[0m\u001b[0;34m=\u001b[0m\u001b[0mbatch_size\u001b[0m\u001b[0;34m,\u001b[0m \u001b[0mepochs\u001b[0m\u001b[0;34m=\u001b[0m\u001b[0mepochs\u001b[0m\u001b[0;34m)\u001b[0m\u001b[0;34m\u001b[0m\u001b[0;34m\u001b[0m\u001b[0m\n\u001b[0m\u001b[1;32m     46\u001b[0m \u001b[0;34m\u001b[0m\u001b[0m\n\u001b[1;32m     47\u001b[0m \u001b[0;31m# Plot the training loss\u001b[0m\u001b[0;34m\u001b[0m\u001b[0;34m\u001b[0m\u001b[0m\n",
            "\u001b[0;32m/content/ML_Final_project/Code/encapsulation.py\u001b[0m in \u001b[0;36mSGD\u001b[0;34m(self, X, y, batch_size, epochs, network, shuffle, seed)\u001b[0m\n\u001b[1;32m    114\u001b[0m \u001b[0;34m\u001b[0m\u001b[0m\n\u001b[1;32m    115\u001b[0m             \u001b[0;32mfor\u001b[0m \u001b[0mX_i\u001b[0m\u001b[0;34m,\u001b[0m \u001b[0my_i\u001b[0m \u001b[0;32min\u001b[0m \u001b[0mself\u001b[0m\u001b[0;34m.\u001b[0m\u001b[0m_create_batches\u001b[0m\u001b[0;34m(\u001b[0m\u001b[0mX\u001b[0m\u001b[0;34m,\u001b[0m \u001b[0my\u001b[0m\u001b[0;34m,\u001b[0m \u001b[0mbatch_size\u001b[0m\u001b[0;34m,\u001b[0m \u001b[0mshuffle\u001b[0m\u001b[0;34m,\u001b[0m \u001b[0mseed\u001b[0m\u001b[0;34m)\u001b[0m\u001b[0;34m:\u001b[0m\u001b[0;34m\u001b[0m\u001b[0;34m\u001b[0m\u001b[0m\n\u001b[0;32m--> 116\u001b[0;31m                 \u001b[0mloss_sum\u001b[0m \u001b[0;34m+=\u001b[0m \u001b[0mself\u001b[0m\u001b[0;34m.\u001b[0m\u001b[0mstep\u001b[0m\u001b[0;34m(\u001b[0m\u001b[0mX_i\u001b[0m\u001b[0;34m,\u001b[0m \u001b[0my_i\u001b[0m\u001b[0;34m)\u001b[0m\u001b[0;34m.\u001b[0m\u001b[0msum\u001b[0m\u001b[0;34m(\u001b[0m\u001b[0;34m)\u001b[0m\u001b[0;34m\u001b[0m\u001b[0;34m\u001b[0m\u001b[0m\n\u001b[0m\u001b[1;32m    117\u001b[0m \u001b[0;34m\u001b[0m\u001b[0m\n\u001b[1;32m    118\u001b[0m             \u001b[0mlosses\u001b[0m\u001b[0;34m.\u001b[0m\u001b[0mappend\u001b[0m\u001b[0;34m(\u001b[0m\u001b[0mloss_sum\u001b[0m \u001b[0;34m/\u001b[0m \u001b[0mlen\u001b[0m\u001b[0;34m(\u001b[0m\u001b[0my\u001b[0m\u001b[0;34m)\u001b[0m\u001b[0;34m)\u001b[0m\u001b[0;34m\u001b[0m\u001b[0;34m\u001b[0m\u001b[0m\n",
            "\u001b[0;32m/content/ML_Final_project/Code/encapsulation.py\u001b[0m in \u001b[0;36mstep\u001b[0;34m(self, batch_x, batch_y)\u001b[0m\n\u001b[1;32m     91\u001b[0m         \u001b[0mloss_delta\u001b[0m \u001b[0;34m=\u001b[0m \u001b[0mself\u001b[0m\u001b[0;34m.\u001b[0m\u001b[0mloss\u001b[0m\u001b[0;34m.\u001b[0m\u001b[0mbackward\u001b[0m\u001b[0;34m(\u001b[0m\u001b[0mbatch_y\u001b[0m\u001b[0;34m,\u001b[0m \u001b[0my_hat\u001b[0m\u001b[0;34m)\u001b[0m\u001b[0;34m\u001b[0m\u001b[0;34m\u001b[0m\u001b[0m\n\u001b[1;32m     92\u001b[0m         \u001b[0mself\u001b[0m\u001b[0;34m.\u001b[0m\u001b[0mnetwork\u001b[0m\u001b[0;34m.\u001b[0m\u001b[0mzero_grad\u001b[0m\u001b[0;34m(\u001b[0m\u001b[0;34m)\u001b[0m\u001b[0;34m\u001b[0m\u001b[0;34m\u001b[0m\u001b[0m\n\u001b[0;32m---> 93\u001b[0;31m         \u001b[0mself\u001b[0m\u001b[0;34m.\u001b[0m\u001b[0mnetwork\u001b[0m\u001b[0;34m.\u001b[0m\u001b[0mbackward\u001b[0m\u001b[0;34m(\u001b[0m\u001b[0mbatch_x\u001b[0m\u001b[0;34m,\u001b[0m \u001b[0mloss_delta\u001b[0m\u001b[0;34m)\u001b[0m\u001b[0;34m\u001b[0m\u001b[0;34m\u001b[0m\u001b[0m\n\u001b[0m\u001b[1;32m     94\u001b[0m         \u001b[0mself\u001b[0m\u001b[0;34m.\u001b[0m\u001b[0mnetwork\u001b[0m\u001b[0;34m.\u001b[0m\u001b[0mupdate_parameters\u001b[0m\u001b[0;34m(\u001b[0m\u001b[0mself\u001b[0m\u001b[0;34m.\u001b[0m\u001b[0meps\u001b[0m\u001b[0;34m)\u001b[0m\u001b[0;34m\u001b[0m\u001b[0;34m\u001b[0m\u001b[0m\n\u001b[1;32m     95\u001b[0m \u001b[0;34m\u001b[0m\u001b[0m\n",
            "\u001b[0;32m/content/ML_Final_project/Code/encapsulation.py\u001b[0m in \u001b[0;36mbackward\u001b[0;34m(self, input, delta)\u001b[0m\n\u001b[1;32m     49\u001b[0m \u001b[0;34m\u001b[0m\u001b[0m\n\u001b[1;32m     50\u001b[0m         \u001b[0;32mfor\u001b[0m \u001b[0mi\u001b[0m\u001b[0;34m,\u001b[0m \u001b[0mmodule\u001b[0m \u001b[0;32min\u001b[0m \u001b[0menumerate\u001b[0m\u001b[0;34m(\u001b[0m\u001b[0mreversed\u001b[0m\u001b[0;34m(\u001b[0m\u001b[0mself\u001b[0m\u001b[0;34m.\u001b[0m\u001b[0mmodules\u001b[0m\u001b[0;34m)\u001b[0m\u001b[0;34m)\u001b[0m\u001b[0;34m:\u001b[0m\u001b[0;34m\u001b[0m\u001b[0;34m\u001b[0m\u001b[0m\n\u001b[0;32m---> 51\u001b[0;31m             \u001b[0mmodule\u001b[0m\u001b[0;34m.\u001b[0m\u001b[0mbackward_update_gradient\u001b[0m\u001b[0;34m(\u001b[0m\u001b[0mself\u001b[0m\u001b[0;34m.\u001b[0m\u001b[0minputs\u001b[0m\u001b[0;34m[\u001b[0m\u001b[0mi\u001b[0m \u001b[0;34m+\u001b[0m \u001b[0;36m1\u001b[0m\u001b[0;34m]\u001b[0m\u001b[0;34m,\u001b[0m \u001b[0mdelta\u001b[0m\u001b[0;34m)\u001b[0m\u001b[0;34m\u001b[0m\u001b[0;34m\u001b[0m\u001b[0m\n\u001b[0m\u001b[1;32m     52\u001b[0m             \u001b[0mdelta\u001b[0m \u001b[0;34m=\u001b[0m \u001b[0mmodule\u001b[0m\u001b[0;34m.\u001b[0m\u001b[0mbackward_delta\u001b[0m\u001b[0;34m(\u001b[0m\u001b[0mself\u001b[0m\u001b[0;34m.\u001b[0m\u001b[0minputs\u001b[0m\u001b[0;34m[\u001b[0m\u001b[0mi\u001b[0m \u001b[0;34m+\u001b[0m \u001b[0;36m1\u001b[0m\u001b[0;34m]\u001b[0m\u001b[0;34m,\u001b[0m \u001b[0mdelta\u001b[0m\u001b[0;34m)\u001b[0m\u001b[0;34m\u001b[0m\u001b[0;34m\u001b[0m\u001b[0m\n\u001b[1;32m     53\u001b[0m \u001b[0;34m\u001b[0m\u001b[0m\n",
            "\u001b[0;31mAttributeError\u001b[0m: 'Sequential' object has no attribute 'backward_update_gradient'"
          ]
        }
      ]
    },
    {
      "cell_type": "code",
      "source": [
        "import numpy as np\n",
        "import matplotlib.pyplot as plt\n",
        "from sklearn.datasets import fetch_openml\n",
        "from sklearn.preprocessing import MinMaxScaler\n",
        "from sklearn.model_selection import train_test_split\n",
        "\n",
        "# Load MNIST dataset\n",
        "mnist = fetch_openml('mnist_784', version=1)\n",
        "\n",
        "\n",
        "# Separate features (X) and labels (y)\n",
        "X = mnist.data\n",
        "y = mnist.target\n",
        "\n",
        "# Normalize the features to range [0, 1]\n",
        "scaler = MinMaxScaler()\n",
        "X = scaler.fit_transform(X)\n",
        "\n",
        "# Split the dataset into training and test sets\n",
        "X_train, X_test, y_train, y_test = train_test_split(X, y, test_size=0.2, random_state=42)\n",
        "\n",
        "# Define the autoencoder architecture\n",
        "encoder = Sequential(\n",
        "    Linear(784, 100),\n",
        "    TanH(),\n",
        "    Linear(100, 10),\n",
        "    TanH()\n",
        ")\n",
        "\n",
        "decoder = Sequential(\n",
        "    Linear(10, 100),\n",
        "    TanH(),\n",
        "    Linear(100, 784),\n",
        "    Sigmoid()\n",
        ")\n",
        "\n",
        "autoencoder = Sequential(encoder, decoder)\n",
        "\n",
        "# Define the optimizer\n",
        "optimizer = Optim(autoencoder, BCELoss(), eps=0.001)\n",
        "\n",
        "# Train the autoencoder\n",
        "epochs = 50\n",
        "batch_size = 128\n",
        "losses = optimizer.SGD(X_train, X_train, batch_size=batch_size, epochs=epochs)\n",
        "\n",
        "# Plot the training loss\n",
        "plt.plot(np.arange(epochs), losses)\n",
        "plt.xlabel('Epoch')\n",
        "plt.ylabel('Loss')\n",
        "plt.title('Training Loss')\n",
        "plt.show()\n",
        "\n",
        "# Reconstruct images using the trained autoencoder\n",
        "reconstructed_images = autoencoder.forward(X_test)\n",
        "\n",
        "# Display some original and reconstructed images\n",
        "n_images = 5\n",
        "plt.figure(figsize=(10, 4))\n",
        "\n",
        "for i in range(n_images):\n",
        "    # Original image\n",
        "    ax = plt.subplot(2, n_images, i + 1)\n",
        "    plt.imshow(X_test[i].reshape(28, 28), cmap='gray')\n",
        "    plt.title('Original')\n",
        "    plt.axis('off')\n",
        "\n",
        "    # Reconstructed image\n",
        "    ax = plt.subplot(2, n_images, i + 1 + n_images)\n",
        "    plt.imshow(reconstructed_images[i].reshape(28, 28), cmap='gray')\n",
        "    plt.title('Reconstructed')\n",
        "    plt.axis('off')\n",
        "\n",
        "plt.tight_layout()\n",
        "plt.show()"
      ],
      "metadata": {
        "colab": {
          "base_uri": "https://localhost:8080/",
          "height": 299
        },
        "id": "Uaka4mkR8uLP",
        "outputId": "0b640c60-deab-48e8-f857-8480d5355963"
      },
      "execution_count": null,
      "outputs": [
        {
          "output_type": "stream",
          "name": "stderr",
          "text": [
            "/usr/local/lib/python3.10/dist-packages/sklearn/datasets/_openml.py:968: FutureWarning: The default value of `parser` will change from `'liac-arff'` to `'auto'` in 1.4. You can set `parser='auto'` to silence this warning. Therefore, an `ImportError` will be raised from 1.4 if the dataset is dense and pandas is not installed. Note that the pandas parser may return different data types. See the Notes Section in fetch_openml's API doc for details.\n",
            "  warn(\n"
          ]
        },
        {
          "output_type": "error",
          "ename": "NameError",
          "evalue": "ignored",
          "traceback": [
            "\u001b[0;31m---------------------------------------------------------------------------\u001b[0m",
            "\u001b[0;31mNameError\u001b[0m                                 Traceback (most recent call last)",
            "\u001b[0;32m<ipython-input-3-9de9a218444c>\u001b[0m in \u001b[0;36m<cell line: 23>\u001b[0;34m()\u001b[0m\n\u001b[1;32m     21\u001b[0m \u001b[0;34m\u001b[0m\u001b[0m\n\u001b[1;32m     22\u001b[0m \u001b[0;31m# Define the autoencoder architecture\u001b[0m\u001b[0;34m\u001b[0m\u001b[0;34m\u001b[0m\u001b[0m\n\u001b[0;32m---> 23\u001b[0;31m encoder = Sequential(\n\u001b[0m\u001b[1;32m     24\u001b[0m     \u001b[0mLinear\u001b[0m\u001b[0;34m(\u001b[0m\u001b[0;36m784\u001b[0m\u001b[0;34m,\u001b[0m \u001b[0;36m100\u001b[0m\u001b[0;34m)\u001b[0m\u001b[0;34m,\u001b[0m\u001b[0;34m\u001b[0m\u001b[0;34m\u001b[0m\u001b[0m\n\u001b[1;32m     25\u001b[0m     \u001b[0mTanH\u001b[0m\u001b[0;34m(\u001b[0m\u001b[0;34m)\u001b[0m\u001b[0;34m,\u001b[0m\u001b[0;34m\u001b[0m\u001b[0;34m\u001b[0m\u001b[0m\n",
            "\u001b[0;31mNameError\u001b[0m: name 'Sequential' is not defined"
          ]
        }
      ]
    },
    {
      "cell_type": "code",
      "source": [
        "import matplotlib.pyplot as plt\n",
        "\n",
        "# Select a few examples from the dataset\n",
        "num_examples = 10\n",
        "examples = X[:num_examples]\n",
        "\n",
        "# Reconstruct the examples\n",
        "reconstructed_examples = autoencoder.forward(examples)\n",
        "\n",
        "# Plot the original and reconstructed images\n",
        "fig, axes = plt.subplots(nrows=2, ncols=num_examples, figsize=(10, 4))\n",
        "\n",
        "for i in range(num_examples):\n",
        "    axes[0, i].imshow(examples[i].reshape(28, 28), cmap='gray')\n",
        "    axes[0, i].axis('off')\n",
        "    axes[1, i].imshow(reconstructed_examples[i].reshape(28, 28), cmap='gray')\n",
        "    axes[1, i].axis('off')\n",
        "\n",
        "axes[0, 0].set_title('Original')\n",
        "axes[1, 0].set_title('Reconstructed')\n",
        "\n",
        "plt.tight_layout()\n",
        "plt.show()"
      ],
      "metadata": {
        "id": "URvwKx8u6CYj"
      },
      "execution_count": null,
      "outputs": []
    },
    {
      "cell_type": "code",
      "source": [
        "from sklearn.cluster import KMeans\n",
        "\n",
        "# Get the latent representations of the data\n",
        "latent_representations = encoder.forward(X)\n",
        "\n",
        "# Perform K-means clustering on the latent representations\n",
        "kmeans = KMeans(n_clusters=10, random_state=42)\n",
        "clusters = kmeans.fit_predict(latent_representations)\n",
        "\n",
        "# Evaluate the clustering performance using ground truth labels\n",
        "ground_truth_labels = mnist.target.astype(int)\n",
        "accuracy = accuracy_score(ground_truth_labels, clusters)\n",
        "print(f'Clustering accuracy: {accuracy}')"
      ],
      "metadata": {
        "colab": {
          "base_uri": "https://localhost:8080/",
          "height": 393
        },
        "id": "r4Cut09z6Fxp",
        "outputId": "388a5b22-e305-4122-8b25-ff0daf34a155"
      },
      "execution_count": null,
      "outputs": [
        {
          "output_type": "error",
          "ename": "AssertionError",
          "evalue": "ignored",
          "traceback": [
            "\u001b[0;31m---------------------------------------------------------------------------\u001b[0m",
            "\u001b[0;31mAssertionError\u001b[0m                            Traceback (most recent call last)",
            "\u001b[0;32m<ipython-input-39-909e6d6a070f>\u001b[0m in \u001b[0;36m<cell line: 4>\u001b[0;34m()\u001b[0m\n\u001b[1;32m      2\u001b[0m \u001b[0;34m\u001b[0m\u001b[0m\n\u001b[1;32m      3\u001b[0m \u001b[0;31m# Get the latent representations of the data\u001b[0m\u001b[0;34m\u001b[0m\u001b[0;34m\u001b[0m\u001b[0m\n\u001b[0;32m----> 4\u001b[0;31m \u001b[0mlatent_representations\u001b[0m \u001b[0;34m=\u001b[0m \u001b[0mencoder\u001b[0m\u001b[0;34m.\u001b[0m\u001b[0mforward\u001b[0m\u001b[0;34m(\u001b[0m\u001b[0mX\u001b[0m\u001b[0;34m)\u001b[0m\u001b[0;34m\u001b[0m\u001b[0;34m\u001b[0m\u001b[0m\n\u001b[0m\u001b[1;32m      5\u001b[0m \u001b[0;34m\u001b[0m\u001b[0m\n\u001b[1;32m      6\u001b[0m \u001b[0;31m# Perform K-means clustering on the latent representations\u001b[0m\u001b[0;34m\u001b[0m\u001b[0;34m\u001b[0m\u001b[0m\n",
            "\u001b[0;32m/content/ML_Final_project/Code/encapsulation.py\u001b[0m in \u001b[0;36mforward\u001b[0;34m(self, input)\u001b[0m\n\u001b[1;32m     39\u001b[0m \u001b[0;34m\u001b[0m\u001b[0m\n\u001b[1;32m     40\u001b[0m         \u001b[0;32mfor\u001b[0m \u001b[0mmodule\u001b[0m \u001b[0;32min\u001b[0m \u001b[0mself\u001b[0m\u001b[0;34m.\u001b[0m\u001b[0mmodules\u001b[0m\u001b[0;34m:\u001b[0m\u001b[0;34m\u001b[0m\u001b[0;34m\u001b[0m\u001b[0m\n\u001b[0;32m---> 41\u001b[0;31m             \u001b[0minput\u001b[0m \u001b[0;34m=\u001b[0m \u001b[0mmodule\u001b[0m\u001b[0;34m.\u001b[0m\u001b[0mforward\u001b[0m\u001b[0;34m(\u001b[0m\u001b[0minput\u001b[0m\u001b[0;34m)\u001b[0m\u001b[0;34m\u001b[0m\u001b[0;34m\u001b[0m\u001b[0m\n\u001b[0m\u001b[1;32m     42\u001b[0m             \u001b[0mself\u001b[0m\u001b[0;34m.\u001b[0m\u001b[0minputs\u001b[0m\u001b[0;34m.\u001b[0m\u001b[0mappend\u001b[0m\u001b[0;34m(\u001b[0m\u001b[0minput\u001b[0m\u001b[0;34m)\u001b[0m\u001b[0;34m\u001b[0m\u001b[0;34m\u001b[0m\u001b[0m\n\u001b[1;32m     43\u001b[0m \u001b[0;34m\u001b[0m\u001b[0m\n",
            "\u001b[0;32m/content/ML_Final_project/Code/Linear.py\u001b[0m in \u001b[0;36mforward\u001b[0;34m(self, X)\u001b[0m\n\u001b[1;32m     15\u001b[0m \u001b[0;34m\u001b[0m\u001b[0m\n\u001b[1;32m     16\u001b[0m     \u001b[0;32mdef\u001b[0m \u001b[0mforward\u001b[0m\u001b[0;34m(\u001b[0m\u001b[0mself\u001b[0m\u001b[0;34m,\u001b[0m \u001b[0mX\u001b[0m\u001b[0;34m)\u001b[0m\u001b[0;34m:\u001b[0m\u001b[0;34m\u001b[0m\u001b[0;34m\u001b[0m\u001b[0m\n\u001b[0;32m---> 17\u001b[0;31m         \u001b[0;32massert\u001b[0m \u001b[0mX\u001b[0m\u001b[0;34m.\u001b[0m\u001b[0mshape\u001b[0m\u001b[0;34m[\u001b[0m\u001b[0;36m1\u001b[0m\u001b[0;34m]\u001b[0m \u001b[0;34m==\u001b[0m \u001b[0mself\u001b[0m\u001b[0;34m.\u001b[0m\u001b[0minput_size\u001b[0m\u001b[0;34m,\u001b[0m \u001b[0mValueError\u001b[0m\u001b[0;34m(\u001b[0m\u001b[0;34m\"X must be of shape (batch_size, input_size)\"\u001b[0m\u001b[0;34m)\u001b[0m\u001b[0;34m\u001b[0m\u001b[0;34m\u001b[0m\u001b[0m\n\u001b[0m\u001b[1;32m     18\u001b[0m \u001b[0;34m\u001b[0m\u001b[0m\n\u001b[1;32m     19\u001b[0m         \u001b[0mweights\u001b[0m \u001b[0;34m=\u001b[0m \u001b[0mself\u001b[0m\u001b[0;34m.\u001b[0m\u001b[0m_parameters\u001b[0m\u001b[0;34m\u001b[0m\u001b[0;34m\u001b[0m\u001b[0m\n",
            "\u001b[0;31mAssertionError\u001b[0m: X must be of shape (batch_size, input_size)"
          ]
        }
      ]
    },
    {
      "cell_type": "code",
      "source": [
        "from sklearn.manifold import TSNE\n",
        "\n",
        "# Reduce the dimensionality of the latent representations to 2D\n",
        "tsne = TSNE(n_components=2, random_state=42)\n",
        "latent_2d = tsne.fit_transform(latent_representations)\n",
        "\n",
        "# Plot the 2D latent space with colored points based on the ground truth labels\n",
        "plt.scatter(latent_2d[:, 0], latent_2d[:, 1], c=ground_truth_labels, cmap='tab10')\n",
        "plt.colorbar()\n",
        "plt.title('2D Latent Space')\n",
        "plt.show()\n"
      ],
      "metadata": {
        "id": "R5nAZ4Qm6JzA"
      },
      "execution_count": null,
      "outputs": []
    }
  ],
  "metadata": {
    "kernelspec": {
      "display_name": "base",
      "language": "python",
      "name": "python3"
    },
    "language_info": {
      "codemirror_mode": {
        "name": "ipython",
        "version": 3
      },
      "file_extension": ".py",
      "mimetype": "text/x-python",
      "name": "python",
      "nbconvert_exporter": "python",
      "pygments_lexer": "ipython3",
      "version": "3.9.13"
    },
    "orig_nbformat": 4,
    "colab": {
      "provenance": [],
      "collapsed_sections": [
        "WDsxP5vNFNAV",
        "L1dljP11FJiW"
      ],
      "include_colab_link": true
    }
  },
  "nbformat": 4,
  "nbformat_minor": 0
}